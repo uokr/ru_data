{
 "cells": [
  {
   "cell_type": "code",
   "execution_count": 2,
   "metadata": {
    "scrolled": true,
    "tags": []
   },
   "outputs": [],
   "source": [
    "import ru_data\n",
    "import pandas as pd\n",
    "import configparser\n",
    "import time\n",
    "from datetime import datetime\n",
    "config = configparser.ConfigParser()\n",
    "config.read(\"ru_data.ini\");"
   ]
  },
  {
   "cell_type": "code",
   "execution_count": 3,
   "metadata": {
    "tags": []
   },
   "outputs": [
    {
     "data": {
      "text/plain": [
       "dict_keys(['company_ratings', 'sec_ratings', 'list_emitents', 'list_securities', 'list_ratings', 'list_scale_values'])"
      ]
     },
     "execution_count": 3,
     "metadata": {},
     "output_type": "execute_result"
    }
   ],
   "source": [
    "#simple use \n",
    "res = ru_data.download_ru_data_main(send = False,ret_result = True)\n",
    "res.keys()"
   ]
  },
  {
   "cell_type": "code",
   "execution_count": 20,
   "metadata": {
    "scrolled": true,
    "tags": []
   },
   "outputs": [],
   "source": [
    "#use in case of errors\n",
    "errors=0\n",
    "while errors>0:        \n",
    "    try:\n",
    "        ru_data.download_ru_data_main(send = True)\n",
    "    except Exception as e:\n",
    "        print (\"Error\")\n",
    "        print (e)\n",
    "        time.sleep(60)\n",
    "    time.sleep(60)"
   ]
  },
  {
   "cell_type": "code",
   "execution_count": 2,
   "metadata": {},
   "outputs": [],
   "source": [
    "#periodically use\n",
    "while True:\n",
    "    \n",
    "    if datetime.now().hour in [8,12,15]:\n",
    "        print (datetime.now())\n",
    "        ru_data.download_ru_data_main(send = True)\n",
    "        time.sleep(60*60)\n",
    "    time.sleep(60*10)"
   ]
  },
  {
   "cell_type": "code",
   "execution_count": null,
   "metadata": {},
   "outputs": [],
   "source": []
  }
 ],
 "metadata": {
  "kernelspec": {
   "display_name": "Python 3 (ipykernel)",
   "language": "python",
   "name": "python3"
  },
  "language_info": {
   "codemirror_mode": {
    "name": "ipython",
    "version": 3
   },
   "file_extension": ".py",
   "mimetype": "text/x-python",
   "name": "python",
   "nbconvert_exporter": "python",
   "pygments_lexer": "ipython3",
   "version": "3.9.7"
  }
 },
 "nbformat": 4,
 "nbformat_minor": 4
}
